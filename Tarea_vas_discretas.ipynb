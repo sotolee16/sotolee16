{
  "nbformat": 4,
  "nbformat_minor": 0,
  "metadata": {
    "colab": {
      "provenance": [],
      "include_colab_link": true
    },
    "kernelspec": {
      "name": "python3",
      "display_name": "Python 3"
    },
    "language_info": {
      "name": "python"
    }
  },
  "cells": [
    {
      "cell_type": "markdown",
      "metadata": {
        "id": "view-in-github",
        "colab_type": "text"
      },
      "source": [
        "<a href=\"https://colab.research.google.com/github/sotolee16/sotolee16/blob/main/Tarea_vas_discretas.ipynb\" target=\"_parent\"><img src=\"https://colab.research.google.com/assets/colab-badge.svg\" alt=\"Open In Colab\"/></a>"
      ]
    },
    {
      "cell_type": "markdown",
      "source": [
        "**Equipo 1:**\n",
        "\n",
        "- Cadena Martínez Arturo\n",
        "\n",
        "- Hernández Rivera Jesús Iván\n",
        "\n",
        "- López Camacho Donovan Uriel\n",
        "\n",
        "- Martínez Martínez Fatima Jakelín\n",
        "\n",
        "- Soto Lee Héctor Emilio"
      ],
      "metadata": {
        "id": "KUk9N_vtlo-E"
      }
    },
    {
      "cell_type": "markdown",
      "source": [
        "$\\color{red}{\\text{Ejercicio 1.}}$ Verifica que, en efecto, la esperanza y varianza de una variable aleatoria geométrica está dada como antes."
      ],
      "metadata": {
        "id": "QZF_VhwmklMi"
      }
    },
    {
      "cell_type": "markdown",
      "source": [
        "***Demostración 1.*** Sea $X\\sim Unif(x_{1},\\dots,x_{n})$, entonces\n",
        "$$\\mathbb{E}[X] = \\sum_{k}kf_{X}(k)= \\sum_{k}k\\mathbb{P}(X=k) = \\sum_{k=x_{1}}^{x_{n}}k \\frac{1}{n}=\\frac{1}{n} \\sum_{k=x_{1}}^{x_{n}}k$$\n",
        "\n",
        "Supongamos que $X$ es una v.a. que toma valores de la forma $\\{x_1, x_1+1,\\dots,x_n\\}$ donde $x_n=x_1+n-1$, utilizando la fórmula para obtener la suma de los primeros $n-1$ números enteros positivos tenemos:\n",
        "\n",
        "$$\\sum_{i=1}^nx_i= \\sum_{i=0}^{n-1}(x_1+i)= nx_1 +  \\sum_{i=0}^{n-1}i = nx_1+ \\frac{n(n-1)}{2}$$\n",
        "\n",
        "Así que aplicamos este último resultado en la esperanza y obtenemos:\n",
        "\n",
        "$$\\mathbb{E}[X]=\\frac{1}{n}(nx_1+ \\frac{n(n-1)}{2})=x_1+ \\frac{n-1}{2}=\\frac{2x_1+n-1}{2}=\\frac{x_1+(x_1+n-1)}{2}=\\frac{x_1+x_n}{2}$$\n",
        "\n",
        "$$\\Rightarrow \\mathbb{E}[X] = \\frac{x_1+x_n}{2}$$\n",
        "\n",
        "***Demostración 2.*** Sea $X\\sim Unif(x_{1},\\dots,x_{n})$, entonces $\\text{Var}(X)$ esta dado por\n",
        "\n",
        "$$\\text{Var}(X) = \\mathbb{E}[(X-\\mathbb{E}[X])^{2}] = \\mathbb{E}[X^2]-\\mathbb{E}[X]^{2}$$\n",
        "\n",
        "Donde, aplicando el Teo. del estadístico inconsciente, obtenemos\n",
        "\n",
        "$$\\mathbb{E}[X^2]=\\sum_{k}k^2f_{X}(k)= \\sum_{k}k^2\\mathbb{P}(X=k) = \\sum_{k=x_{1}}^{x_{n}}k^2 \\frac{1}{n}=\\frac{1}{n} \\sum_{k=x_{1}}^{x_{n}}k^2$$\n",
        "\n",
        "Por la demostración anterior sabemos que $\\mathbb{E}[X]=x_1+ \\frac{n-1}{2}$, así que, bajo los supuestos $X$ es una v.a. que toma valores de la forma $\\{x_1, x_1+1,\\dots,x_n\\}$ donde $x_n=x_1+n-1$, hacemos lo siguiente\n",
        "\n",
        "$$\\sum_{i=1}^nx_i^2= \\sum_{i=0}^{n-1}(x_1+i)^2=\\sum_{i=0}^{n-1}(x_1^2+2x_1i+i^2) = nx_1^2+ 2x_1\\sum_{i=0}^{n-1}i+\\sum_{i=0}^{n-1}i^2$$\n",
        "\n",
        "Usamos la fórmula para obtener la suma de los primeros $n-1$ números enteros positivos y la fórmula para obtener la suma del cuadrado de los primeros $n-1$ números enteros positivos, tenemos lo siguiente:\n",
        "\n",
        "$$\\sum_{i=0}^{n-1}i=\\frac{n(n-1)}{2}$$\n",
        "$$\\sum_{i=0}^{n-1}i^2=\\frac{(n-1)n(2n-1)}{6}$$\n",
        "\n",
        "$$\\sum_{i=1}^nx_i^2 = nx_1^2+ 2x_1\\frac{n(n-1)}{2}+\\frac{(n-1)n(2n-1)}{6}=nx_1^2+ x_1(n-1)n+\\frac{(n-1)n(2n-1)}{6}$$\n",
        "\n",
        "Así que:\n",
        "\n",
        "$$\\mathbb{E}[X^2]=\\frac{1}{n}\\left(nx_1^2+x_1(n-1)n+\\frac{(n-1)n(2n-1)}{6}\\right)= x_1^2+x_1(n-1)+\\frac{(n-1)(2n-1)}{6}$$\n",
        "\n",
        "Sustituimos los valores obtenidos en la fórmula de la $\\text{Var}(X)$\n",
        "\n",
        "\\begin{align*}\n",
        "\\text{Var}(X) &= x_1^2+x_1(n-1)+\\frac{(n-1)(2n-1)}{6}-\\left(x_1+ \\frac{n-1}{2}\\right)^2 \\\\\n",
        "&= x_1^2+x_1(n-1)+\\frac{(n-1)(2n-1)}{6}-\\left(x_1^2+ 2x_1\\frac{n-1}{2}+\\frac{(n-1)^2}{4}\\right)\\\\\n",
        "&= x_1^2+x_1(n-1)+\\frac{(n-1)(2n-1)}{6}-x_1^2- x_1(n-1)-\\frac{(n-1)^2}{4}\\\\\n",
        "&=\\frac{(n-1)(2n-1)}{6}-\\frac{(n-1)^2}{4}\\\\\n",
        "&= \\frac{(n-1)}{6}(2n-1)-\\frac{(n-1)(n-1)}{4}\\\\\n",
        "&=\\frac{(n-1)}{6}\\left((2n-1)-\\frac{3(n-1)}{2}\\right)\\\\\n",
        "&=\\frac{(n-1)}{6}\\left(\\frac{4n-2-3n+3}{2}\\right)\\\\\n",
        "&= \\frac{(n-1)}{6}\\left(\\frac{n+1}{2}\\right)\\\\\n",
        "&=\\frac{(n-1)(n+1)}{12}\\\\\n",
        "&=\\frac{n^2-1}{12}\\\\\n",
        "\\end{align*}\n",
        "\n",
        "Desarrollamos el último resultado, agregando \"ceros\"\n",
        "\n",
        "$$\\frac{n^2-1}{12} = \\frac{(x_1-x_1+1-1+n)^2-1}{12}$$\n",
        "\n",
        "Agrupamos\n",
        "\n",
        "$$\\frac{n^2-1}{12} = \\frac{((x_1+n-1)-x_1+1)^2-1}{12}$$\n",
        "\n",
        "Sabemos que $x_n=x_1+n-1$, por lo tanto\n",
        "\n",
        "$$\\Rightarrow\\text{Var}[X]=\\frac{n^2-1}{12}=\\frac{(x_n-x_1+1)^2-1}{12}$$"
      ],
      "metadata": {
        "id": "GPR9f9xZkoDl"
      }
    },
    {
      "cell_type": "markdown",
      "source": [
        "$\\color{red}{\\text{Ejercicio 2.}}$ Dibuja a la función de distribución acumulada de la variable aleatoria:\n",
        "$$S:\\{1,2,3,4,5,6\\}^{2}\\to \\{2, 3, 4, 5, 6, 7, 8, 9, 10, 11, 12 \\}$$\n",
        "dada por\n",
        "$S(i,j)=i+j.$"
      ],
      "metadata": {
        "id": "xsFfv1hDk0BN"
      }
    },
    {
      "cell_type": "code",
      "source": [
        "import numpy as np\n",
        "import matplotlib.pyplot as plt\n",
        "R = [i + j for i in range(1, 7) for j in range(1, 7)]\n",
        "v, c = np.unique(R, return_counts=True)\n",
        "P = c / 36\n",
        "F = np.cumsum(P)\n",
        "# Graficar de la funcion\n",
        "plt.step(v, F, where='mid',color = \"green\")\n",
        "plt.xlabel(' S( i , j)')\n",
        "plt.ylabel('F(S)')\n",
        "plt.title('Función de Distribución Acumulada de S(i, j)')\n",
        "plt.grid(True)\n",
        "plt.show()"
      ],
      "metadata": {
        "id": "nN4qyMU310aO",
        "outputId": "a96180a8-ab3b-48cc-d5d4-087f7cca7990",
        "colab": {
          "base_uri": "https://localhost:8080/",
          "height": 472
        }
      },
      "execution_count": null,
      "outputs": [
        {
          "output_type": "display_data",
          "data": {
            "text/plain": [
              "<Figure size 640x480 with 1 Axes>"
            ],
            "image/png": "[encoded data removed]"
          },
          "metadata": {}
        }
      ]
    },
    {
      "cell_type": "markdown",
      "source": [
        "**Ejemplo (Distribución Poisson):** Supongamos que el número de accidentes que ocurre en un punto tiene una distribución Poisson con parámetro $\\lambda=2$.\n",
        "* ¿Cuál es la probabilidad de que en un día ocurran más de dos accidentes?\n",
        "  $$\\begin{align*}\n",
        "\t\\mathbb{P}(X>2) &= 1-\\mathbb{P}(X\\le 2) \\\\ &=1-\\left[\\mathbb{P}(X=0)+\\mathbb{P}(X=1)+\\mathbb{P}(X=2)\\right] \\\\ &= 1-\\left[\\frac{e^{-2}2^{0}}{0!}+\\frac{e^{-2}2^{1}}{1!}+\\frac{e^{-2}2^{2}}{2!}\\right] \\\\ &= 1-e^{-2}\\left[1+2+2\\right] = 1-5e^{-2} = 0.3233\n",
        "  \\end{align*}$$\n",
        "\n",
        "* ¿Cuál es la probabilidad de que en un día ocurran más de dos accidentes, sabiendo que ocurre por lo menos uno?\n",
        "$$\\begin{align*}\n",
        "\\mathbb{P}(X>2 \\mid X\\ge 1) = \\frac{\\mathbb{P}(X>2 \\mid X\\ge 1)}{\\mathbb{P}(X\\ge 1)} = \\frac{\\mathbb{P}(X>2)}{\\mathbb{P}(X\\ge 1)} = \\frac{1-5e^{-2}}{1-e^{-2}} = \\frac{0.3233}{0.8646} = 0.3739\n",
        "\\end{align*}$$\n",
        "ya que $\\mathbb{P}(X\\ge 1)=1-\\mathbb{P}(X<1)=1-\\mathbb{P}(X=0)=1-e^{-2}$\n",
        "\n",
        "$\\color{red}{\\text{Ejercicio 3.}}$ Usando el atributo `.cdf` [Poisson](https://docs.scipy.org/doc/scipy/reference/generated/scipy.stats.poisson.html) calcula las probabilidades anteriores."
      ],
      "metadata": {
        "id": "q0ATKZ_Tk8wh"
      }
    },
    {
      "cell_type": "code",
      "execution_count": null,
      "metadata": {
        "id": "uKCQn9fekfdl"
      },
      "outputs": [],
      "source": [
        "# Ejemplo 1\n",
        "\n",
        "# Importamos la función poisson de scipy\n",
        "from scipy.stats import poisson\n",
        "\n",
        "# Calculamos la probabilidad de que X sea mayor a 2\n",
        "proba = 1-poisson.cdf(2,2)\n",
        "\n",
        "# Imprimimos el resultado\n",
        "print(\"La probabilidad de que X sea mayor a 2 es: \", round(proba,4))"
      ]
    },
    {
      "cell_type": "code",
      "source": [
        "# Ejemplo 2\n",
        "\n",
        "# Importamos la función poisson de scipy\n",
        "from scipy.stats import poisson\n",
        "\n",
        "# Calculamos la probabilidad de que X sea mayor a 2\n",
        "proba1 = 1-poisson.cdf(2,2)\n",
        "\n",
        "# Calculamos la probabilidad de que X sea mayor o igual a uno\n",
        "# Es decir, que 1 menos la proba de que X sea menor estricto a uno\n",
        "proba2 = 1-poisson.cdf(0,2)\n",
        "\n",
        "print(\"La probabilidad de que X sea mayor a 2 dado que X es mayor o igual a 1 es: \", round(proba1/proba2,4))"
      ],
      "metadata": {
        "id": "OXVEftZVlOvF"
      },
      "execution_count": null,
      "outputs": []
    },
    {
      "cell_type": "markdown",
      "source": [
        "$\\color{red}{\\text{Ejercicio 4.}}$ Un examen de Estadística consta de 20 preguntas tipo test y se conoce de experiencias\n",
        "anteriores que un alumno tiene probabilidad 0.7 de contestar bien cada pregunta. Obtener:\n",
        "\n",
        "a) La probabilidad de que la primera pregunta que contesta bien sea la cuarta.\n",
        "\n",
        "b) Sabiendo que para aprobar el examen es necesario contestar bien a 10 preguntas, ¿cuál es la probabilidad de que apruebe al contestar la pregunta duodécima?"
      ],
      "metadata": {
        "id": "GfF9RyfclbPS"
      }
    },
    {
      "cell_type": "markdown",
      "source": [
        "***Respuesta a)*** Tomando que las respuestas de cada pregunta son independientes, tenemos entonces que la probabilidad de errar en cualquier pregunta es de 0.3. Entonces la probabilidad de que la primera correcta sea la 4ta pregunta es igual a la probabilidad de que las primeras 3 preguntas hayan estado incorrectas y la cuarta sea correcta. Por lo tanto está dado por el siguiente cálculo:\n"
      ],
      "metadata": {
        "id": "M3U2fQdjZ1Go"
      }
    },
    {
      "cell_type": "code",
      "source": [
        "proba = .3*.3*.3*.7\n",
        "print(f\"La probabilidad de que la primera correcta sea la cuarta pregunta es: {proba}\")"
      ],
      "metadata": {
        "colab": {
          "base_uri": "https://localhost:8080/"
        },
        "id": "4uNd6StlZZ7S",
        "outputId": "abb2a6e5-8354-4c22-9190-1fa5581dfd62"
      },
      "execution_count": null,
      "outputs": [
        {
          "output_type": "stream",
          "name": "stdout",
          "text": [
            "La probabilidad de que la primera correcta sea la cuarta pregunta es: 0.0189\n"
          ]
        }
      ]
    },
    {
      "cell_type": "markdown",
      "source": [
        "***Respuesta b)*** Este resultado lo podemos razonar como la probabilidad de que se contesten al menos 10 preguntas correctas a lo más en las primeras 12 preguntas, por lo que ocupamos las combinaciones de 12 en 10. Particionemos en 3 casos:\n",
        "- Todas las preguntas correctas\n",
        "- Una pregutna incorrecta\n",
        "- Dos preguntas incorrectas  \n",
        "\n",
        "Nuestra probabilidad la podemos obtener como la suma de estos 3 casos"
      ],
      "metadata": {
        "id": "iT4sj_FWaqYu"
      }
    },
    {
      "cell_type": "code",
      "source": [
        "# Caso 1: Todas correctas\n",
        "proba_1 = .7**12\n",
        "\n",
        "# Caso 2: Una incorrecta. Notemos que el error puede cometerse de 12 formas distintas, es decir en cualquiera de las 12 preguntas\n",
        "proba_2 = .7**11 * .3 * 12\n",
        "\n",
        "# Caso 3: Dos incorrectas. Aqui, para obtener nuestras configuraciones posibles, obtenemos nuestras combinaciones posibles de 10 en 12\n",
        "proba_3 = .7**10 * .3**2 * 12 * 11 / 2\n",
        "\n",
        "print(f\"La probabilidad de aprobar el examen a lo más en nuestras primeras 12 preguntas es de {proba_1 + proba_2 + proba_3}\")"
      ],
      "metadata": {
        "colab": {
          "base_uri": "https://localhost:8080/"
        },
        "id": "zdMGquD8cHzy",
        "outputId": "ed692070-1266-4c03-f211-4acdd249132c"
      },
      "execution_count": null,
      "outputs": [
        {
          "output_type": "stream",
          "name": "stdout",
          "text": [
            "La probabilidad de aprobar el examen a lo más en nuestras primeras 12 preguntas es de 0.2528153478549998\n"
          ]
        }
      ]
    },
    {
      "cell_type": "markdown",
      "source": [
        "$\\color{red}{\\text{Ejercicio 5.}}$ Investigue sobre el problema de la caja de cerillos de Banach y explique su solución."
      ],
      "metadata": {
        "id": "j-Vc7Z9pleZt"
      }
    },
    {
      "cell_type": "markdown",
      "source": [
        "Problema de la caja de cerillas de Banach: Supongamos que un matemático lleva siempre dos cajas de cerillas: una en bolsillo izquierdo y otra en el derecho. Cada vez que necesita una cerilla en cualquiera de los dos bolsillos. Supongamos que mete la mano en su bolsillo y descubre por primera vez que la caja elegida está vacía. Si se supone que cada una de las cajas de cerillas originalmente contenía  $n$ coincidencias, ¿cuál es la probabilidad de que haya exactamente $k$ cerillas en la otra caja?\n",
        "\n",
        "La solución del problema nos dice que cosiderando que las cajas de cerillos cuentan con $N$ inicialmente, al momento que una caja se quede sin cerillos, existe la posibilidad que la otra quede con $0, 1, 2, ..., N$ cerillos. Por lo que llaman al evento $A_r=\\{la caja no vacía contiene r cerillos\\}$. Ahora bien, supongan que la caja del bolsillo izquierdo es la queda vacía,  para que ello ocurra $N - r$\n",
        "fracasos (elecciones del bolsillo derecho) deben haber precedido al $N+1$-\n",
        "ésimo éxito (elección del bolsillo izquierdo). Esto se puede resolver tratando al evento como una variable aleatoria binomial: $X \\sim bin(N+1, 1/2)$ donde buscamos obtener $\\mathbb{P}(X = N - r)$, pero tanto puede ser la caja del bolsillo izquierdo como el derecho, la probabilidad que buscamos es:\n",
        "\n",
        "$p = \\mathbb{P}(A_r) = 2 \\mathbb{P}(X = N-r)=$\n",
        "\n",
        "$2\\binom{2N-r}{N-r}(\\frac{1}{2})^{N+1}(\\frac{1}{2})^{N-r}$\n",
        "\n",
        "Dado que con esto abaracamos las dos posibilidades que se termine primero la caja del bolsillo derecho e izquierdo y, a su vez, tomamos en cuenta el número de éxitos y fracasos que deben ocurrir para que suceda el evento que deseamos."
      ],
      "metadata": {
        "id": "fp-mMOVeLgnF"
      }
    },
    {
      "cell_type": "markdown",
      "source": [
        "$\\color{red}{\\text{Ejercicio 6.}}$ Una compañía petrolera realiza un estudio geológico que indica que un pozo petrolero exploratorio debería tener un 20% de posibilidades de encontrar petróleo.\n",
        "\n",
        "- ¿Cuál es la probabilidad de que el primer pozo se produzca en el tercer pozo perforado?\n",
        "\n",
        "Se puede realizar el cálculo de probabilidad por la distribución geométrica y la distribución binomial negativa.\n",
        "\n",
        "Por distribución geométrica:\n",
        "$k=3$ y $p=0.20$\n",
        "\n",
        "=>$p(3)=(0.20)(1-0.20)^{3-1}$\n",
        "\n",
        "$p(3)=0.128$\n",
        "\n",
        "Por distribución binomial negativa:\n",
        "$r=1$ y $k=3$\n",
        "\n",
        "$p(3)=\\binom{3-1}{1-1}(0.2)^{1}(1-0.2)^{3-1}$\n",
        "\n",
        "$p(3)=\\binom{2}{0}(0.2)(0.8)^{2}$\n",
        "\n",
        "$p(3)=0.128$"
      ],
      "metadata": {
        "id": "rENTOiUwljRp"
      }
    },
    {
      "cell_type": "code",
      "source": [
        "from scipy.special import comb\n",
        "# Parámetros:\n",
        "p = 0.20  # Probabilidad de éxito en cada ensayo\n",
        "k = 3     # Número de ensayos en los que se observa el primer éxito\n",
        "r = 1    # Número de éxitos deseados (primer pozo productor)\n",
        "\n",
        "# Probabilidad usando la fórmula de la distribución geométrica:\n",
        "prob_geom = (1 - p)**(k - 1) * p\n",
        "print(\"La prob de que el primer pozo se produzca en el tercer pozo perforado por distribución geométrica es:\",round(prob_geom,5))\n",
        "\n",
        "# Probabilidad usando la fórmula de la distribución binomial negativa:\n",
        "prob_negativa = (comb(k-1,r-1))*((p)**r)*((1-p)**(k-r))\n",
        "print(\"La prob de que el primer pozo se produzca en el tercer pozo perforado por distribución binomial negativa es:\",round(prob_negativa,5))"
      ],
      "metadata": {
        "colab": {
          "base_uri": "https://localhost:8080/"
        },
        "id": "ayC5jmmzo0ip",
        "outputId": "4ac41072-bc88-4054-897b-0ac98eb1a6a0"
      },
      "execution_count": null,
      "outputs": [
        {
          "output_type": "stream",
          "name": "stdout",
          "text": [
            "La prob de que el primer pozo se produzca en el tercer pozo perforado por distribución geométrica es: 0.128\n",
            "La prob de que el primer pozo se produzca en el tercer pozo perforado por distribución binomial negativa es: 0.128\n"
          ]
        }
      ]
    },
    {
      "cell_type": "markdown",
      "source": [
        "- ¿Cuál es la probabilidad de que el tercer pozo se produzca en el séptimo pozo perforado?\n",
        "\n",
        "r=3 y k=7\n",
        "\n",
        "$p(7)=\\binom{7-1}{3-1}(0.2)^{3}(1-0.2)^{7-3}$\n",
        "\n",
        "$p(3)=\\binom{6}{2}(0.2)^{3}(0.8)^{4}$\n",
        "\n",
        "$p(3)=0.049152$"
      ],
      "metadata": {
        "id": "G_-CJv_4pJkM"
      }
    },
    {
      "cell_type": "code",
      "source": [
        "# Parámetros:\n",
        "p = 0.20  # Probabilidad de éxito en cada ensayo\n",
        "k = 7     # Número de ensayos en los que se observa el primer éxito\n",
        "r = 3    # Número de éxitos deseados (primer pozo productor)\n",
        "\n",
        "# Probabilidad usando la fórmula de la distribución binomial negativa:\n",
        "prob_negativa = (comb(k-1,r-1))*((p)**r)*((1-p)**(k-r))\n",
        "\n",
        "print(\"La probabilidad de que el tercer pozo se produzca en el séptimo pozo perforado es:\", round(prob_negativa,5))"
      ],
      "metadata": {
        "colab": {
          "base_uri": "https://localhost:8080/"
        },
        "id": "RkZki8c4pPcz",
        "outputId": "94c4be4b-a361-4246-c9a3-d7155dea6001"
      },
      "execution_count": null,
      "outputs": [
        {
          "output_type": "stream",
          "name": "stdout",
          "text": [
            "La probabilidad de que el tercer pozo se produzca en el séptimo pozo perforado es: 0.04915\n"
          ]
        }
      ]
    },
    {
      "cell_type": "markdown",
      "source": [
        "- ¿Cuál es la media y la varianza del número de pozos que se deben perforar si la compañía petrolera quiere establecer tres pozos productores?\n",
        "\n",
        "$r=3$ y $p=0.20$\n",
        "\n",
        "$m=\\frac{r}{p}\\ =\\frac{3}{0.2}\\ = 15$.\n",
        "\n",
        "$\\text{Var}[X]= \\frac{r(1-p)}{p^2}\\ =\\frac{3(0.8)}{0.2^2}\\ =60$."
      ],
      "metadata": {
        "id": "bWnDDKawpWXP"
      }
    },
    {
      "cell_type": "code",
      "source": [
        "# Parámetros:\n",
        "r = 3    # Número de éxitos deseados\n",
        "p = 0.20 # Probabilidad de éxito en cada ensayo\n",
        "\n",
        "# Media:\n",
        "media = r / p\n",
        "print(\"Media:\",media)\n",
        "\n",
        "# Varianza:\n",
        "varianza = r * (1 - p) / (p ** 2)\n",
        "print(\"Varianza:\", varianza)"
      ],
      "metadata": {
        "colab": {
          "base_uri": "https://localhost:8080/"
        },
        "id": "wr2s1bjmpZsU",
        "outputId": "2885133c-cf00-4d49-9d7a-81346cf16a8a"
      },
      "execution_count": null,
      "outputs": [
        {
          "output_type": "stream",
          "name": "stdout",
          "text": [
            "Media: 15.0\n",
            "Varianza: 60.0\n"
          ]
        }
      ]
    },
    {
      "cell_type": "markdown",
      "source": [
        "\n",
        "|Distribución| $M_X(t)$| $\\Phi _X(t)$ |\n",
        "|-|-|-|\n",
        "|**Discretas**|||\n",
        "|**Uniforme:**  $Unif\\{a,b\\}$| $M_X(t)=\\frac{e^{ta}(1-e^{t(b-a+1)})}{(b-a+1)(1-e^t)}$|$\\Phi_X(t)=\\frac{e^{itb}-e^{ita}}{i(b-a+1)(e^{it}-1)}$|\n",
        "|**Bernoulli:** $Bern\\{0,1\\}$| $M_X(t)=1-p+pe^t$|$\\Phi_X(t)=1-p+pe^{it}$|\n",
        "|**Binomial:** $Binom(n,p)$|$M_X(t)=(1-p+pe^t)^n$|$\\Phi_X(t)=(1-p+pe^{it})^n$|\n",
        "|**Poisson:** $Pois(\\lambda)$| $M_X(t)=e^{\\lambda(e^t-1)}$| $\\Phi_X(t)=e^{\\lambda(e^{it}-1)}$|\n",
        "|**Geométrica:** $Geom(p)$| $M_X(t) = \\frac{pe^t}{1-(1-p)e^t}$| $\\Phi_X(t) = \\frac{pe^{it}}{1-(1-p)e^{it}}$\n",
        "|**Binomial Negativa:** $NegBin(r,p)$ |$M_X(t)=\\left(\\frac{pe^{t}}{1-(1-p)e^t}\\right)^r$|$\\Phi_X(t)=\\left(\\frac{pe^{it}}{1-(1-p)e^{it}}\\right)^r$|\n",
        "|**Continuas**|||\n",
        "| **Uniforme (0,1)** | $ M_X(t) = \\frac{e^t - 1}{t} $ | $ \\varphi_X(t) = \\frac{e^{it} - 1}{it} $ |\n",
        "| **Exponencial $(\\lambda)$**| $M_X(t) = \\frac{\\lambda}{\\lambda - t};  (para ~t < \\lambda )$ | $\\varphi_X(t) = \\frac{\\lambda}{\\lambda - it}$ |\n",
        "| **Normal $(\\mu, \\sigma^2)$** | $M_X(t)= e^{\\mu t + \\frac{1}{2} \\sigma^2 t^2} $ | $ \\varphi_X(t) = e^{i \\mu t - \\frac{1}{2} \\sigma^2 t^2} $ |"
      ],
      "metadata": {
        "id": "mACMOKR57fjS"
      }
    },
    {
      "cell_type": "code",
      "source": [],
      "metadata": {
        "id": "Xdqmy1rjpCVR"
      },
      "execution_count": null,
      "outputs": []
    }
  ]
}